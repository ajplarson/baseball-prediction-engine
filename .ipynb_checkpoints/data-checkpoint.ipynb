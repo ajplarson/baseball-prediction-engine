{
 "cells": [
  {
   "cell_type": "code",
   "execution_count": 21,
   "id": "2b65b60a-3bdb-4f8d-9b2c-a85677fd7971",
   "metadata": {
    "tags": []
   },
   "outputs": [
    {
     "name": "stdout",
     "output_type": "stream",
     "text": [
      "done loading utils\n"
     ]
    }
   ],
   "source": [
    "\n",
    "# ids because mlb can't design a good api\n",
    "import json\n",
    "import os\n",
    "import csv\n",
    "\n",
    "userDir = 'C:/Users/jeb'\n",
    "gameDir = userDir + '/2022/games'\n",
    "boxscoreDir = userDir + '/2022/boxscores'\n",
    "pitchingDir = userDir + '/2022/pitching'\n",
    "battingDir = userDir + '/2022/batting'\n",
    "\n",
    "\n",
    "\n",
    "with open(userDir + '/teams.json', 'r') as f:\n",
    "    # Load the contents of the file into a dictionary\n",
    "    teams = json.load(f)['teams']\n",
    "    \n",
    "with open(userDir + '/seasons.json', 'r') as f:\n",
    "    # Load the contents of the file into a dictionary\n",
    "    seasons = json.load(f)['seasons']\n",
    "\n",
    "def writeDataToFile(data, fileName):\n",
    "    # Create the directory if it doesn't exist\n",
    "    directory = os.path.dirname(fileName)\n",
    "    if not os.path.exists(directory):\n",
    "        os.makedirs(directory)\n",
    "    with open(fileName + '.json', \"w\") as json_file:\n",
    "        # Write the data to the file in JSON format\n",
    "        json.dump(data, json_file)\n",
    "    # # uncomment to write as csv\n",
    "    # with open(fileName + '.csv' , \"w\", newline=\"\") as csv_file:\n",
    "    #     # Create a CSV writer object\n",
    "    #     writer = csv.writer(csv_file)\n",
    "    #     # Write the header row\n",
    "    #     writer.writerow(data[0].keys())\n",
    "    #     # Write the data rows\n",
    "    #     for row in data:\n",
    "    #         writer.writerow(row.values())\n",
    "\n",
    "def writeGameData(data, team):\n",
    "    file = gameDir + '/' + team['teamCode'] \n",
    "    writeDataToFile(data, file)\n",
    "\n",
    "def writeBoxscore(data, teamAbbreviation, gameId):\n",
    "    file = boxscoreDir + '/' + teamAbbreviation + '/' + teamAbbreviation + '-' + gameId\n",
    "    writeDataToFile(data, file)\n",
    "\n",
    "def removeDuplicates(list):\n",
    "    result = []\n",
    "    for item in list:\n",
    "        if item not in result:\n",
    "            result.append(item)\n",
    "    return result\n",
    "\n",
    "leagues = []\n",
    "divisions = []\n",
    "sports = []\n",
    "\n",
    "# Print the contents of the dictionary\n",
    "for team in teams:\n",
    "    leagues.append(team['league'])\n",
    "    divisions.append(team['division'])\n",
    "    sports.append(team['sport'])\n",
    "\n",
    "leagues = removeDuplicates(leagues)\n",
    "divisions = removeDuplicates(divisions)\n",
    "sports = removeDuplicates(sports)\n",
    "\n",
    "def getTeamById(id):\n",
    "    for item in teams:\n",
    "        if item.get('id') == id:\n",
    "            return item\n",
    "    return None\n",
    "\n",
    "def getTeamByCode(teamCode):\n",
    "    for item in teams:\n",
    "        if item.get('teamCode') == teamCode:\n",
    "            return item\n",
    "    return None \n",
    "\n",
    "def getSeasonById(seasons, season_id):\n",
    "    for season in seasons:\n",
    "        if season['seasonId'] == season_id:\n",
    "            return season\n",
    "    return None   \n",
    "\n",
    "mostRecentSeason = getSeasonById(seasons, '2022')\n",
    "print('done loading utils')"
   ]
  },
  {
   "cell_type": "code",
   "execution_count": 11,
   "id": "74b85bd5-79bc-40e7-a674-0ebfd65c8627",
   "metadata": {
    "tags": []
   },
   "outputs": [
    {
     "name": "stdout",
     "output_type": "stream",
     "text": [
      "hi\n"
     ]
    }
   ],
   "source": [
    "# import requests\n",
    "import statsapi\n",
    "\n",
    "### gets all seasons\n",
    "# for division in divisions:\n",
    "#     for league in leagues:\n",
    "#         params = {\n",
    "#             'all': True,\n",
    "#             'sportId': 1,\n",
    "#             'divisionId': division['id'],\n",
    "#             'leagueId': league['id']\n",
    "#         }\n",
    "#         print(statsapi.get('seasons', params, force=False))\n",
    "\n",
    "### gets all games in a season\n",
    "# def getSeasonGameData(season):\n",
    "#     startDate = season['seasonStartDate']\n",
    "#     endDate = season['seasonEndDate']\n",
    "#     for team in teams:\n",
    "#         games = statsapi.schedule(start_date=startDate, end_date=endDate, team=team['id'])\n",
    "#         writeGameData(games, team)\n",
    "# getSeasonGameData(mostRecentSeason)\n",
    "\n",
    "### takes games.json from above and gets all game boxscores for each team\n",
    "# def readGameData():\n",
    "#     files = os.listdir(gameDir)\n",
    "#     for file in files:\n",
    "#         currentTeamAbbr = os.path.splitext(file)[0]\n",
    "#         print(\"Starting Reading Games for \" + currentTeamAbbr)\n",
    "#         filePath = os.path.join(gameDir, file)\n",
    "#         with open(filePath, 'r') as jsonFile:\n",
    "#             games = json.load(jsonFile)\n",
    "#             for game in games:\n",
    "#                 currentGameId = str(game['game_id'])\n",
    "#                 data = statsapi.boxscore_data(currentGameId, timecode=None)\n",
    "#                 writeBoxscore(data, currentTeamAbbr, currentGameId)\n",
    "#         print(\"Finished Reading Games for \" + currentTeamAbbr)\n",
    "\n"
   ]
  },
  {
   "cell_type": "code",
   "execution_count": 23,
   "id": "c00d1c8e-e41a-4698-a641-3b8d3608a050",
   "metadata": {
    "tags": []
   },
   "outputs": [
    {
     "ename": "NotADirectoryError",
     "evalue": "[WinError 267] The directory name is invalid: 'C:/Users/jeb/2022/games\\\\ana.json'",
     "output_type": "error",
     "traceback": [
      "\u001b[1;31m---------------------------------------------------------------------------\u001b[0m",
      "\u001b[1;31mNotADirectoryError\u001b[0m                        Traceback (most recent call last)",
      "Cell \u001b[1;32mIn[23], line 63\u001b[0m\n\u001b[0;32m     58\u001b[0m     merged_data \u001b[38;5;241m=\u001b[39m pd\u001b[38;5;241m.\u001b[39mDataFrame(pitching_merged_data)\n\u001b[0;32m     60\u001b[0m     \u001b[38;5;28;01mreturn\u001b[39;00m merged_data\n\u001b[1;32m---> 63\u001b[0m \u001b[43mpreprocess_data\u001b[49m\u001b[43m(\u001b[49m\u001b[43mgameDir\u001b[49m\u001b[43m,\u001b[49m\u001b[43m \u001b[49m\u001b[43mboxscoreDir\u001b[49m\u001b[43m,\u001b[49m\u001b[43m \u001b[49m\u001b[43mbattingDir\u001b[49m\u001b[43m,\u001b[49m\u001b[43m \u001b[49m\u001b[43mpitchingDir\u001b[49m\u001b[43m)\u001b[49m\n",
      "Cell \u001b[1;32mIn[23], line 8\u001b[0m, in \u001b[0;36mpreprocess_data\u001b[1;34m(game_dir, game_stats_dir, batting_stats_dir, pitching_stats_dir)\u001b[0m\n\u001b[0;32m      6\u001b[0m \u001b[38;5;28;01mfor\u001b[39;00m team_dir \u001b[38;5;129;01min\u001b[39;00m os\u001b[38;5;241m.\u001b[39mlistdir(game_dir):\n\u001b[0;32m      7\u001b[0m     team_path \u001b[38;5;241m=\u001b[39m os\u001b[38;5;241m.\u001b[39mpath\u001b[38;5;241m.\u001b[39mjoin(game_dir, team_dir)\n\u001b[1;32m----> 8\u001b[0m     \u001b[38;5;28;01mfor\u001b[39;00m game_file \u001b[38;5;129;01min\u001b[39;00m \u001b[43mos\u001b[49m\u001b[38;5;241;43m.\u001b[39;49m\u001b[43mlistdir\u001b[49m\u001b[43m(\u001b[49m\u001b[43mteam_path\u001b[49m\u001b[43m)\u001b[49m:\n\u001b[0;32m      9\u001b[0m         game_path \u001b[38;5;241m=\u001b[39m os\u001b[38;5;241m.\u001b[39mpath\u001b[38;5;241m.\u001b[39mjoin(team_path, game_file)\n\u001b[0;32m     10\u001b[0m         \u001b[38;5;28;01mwith\u001b[39;00m \u001b[38;5;28mopen\u001b[39m(game_path, \u001b[38;5;124m\"\u001b[39m\u001b[38;5;124mr\u001b[39m\u001b[38;5;124m\"\u001b[39m) \u001b[38;5;28;01mas\u001b[39;00m f:\n",
      "\u001b[1;31mNotADirectoryError\u001b[0m: [WinError 267] The directory name is invalid: 'C:/Users/jeb/2022/games\\\\ana.json'"
     ]
    }
   ],
   "source": [
    "import pandas as pd\n",
    "\n",
    "def processGameData(gameDir):\n",
    "    # Load game data from JSON files in game_dir\n",
    "    game_data = []\n",
    "    files = os.listdir(gameDir)\n",
    "    #loop over all game files\n",
    "    for file in files:\n",
    "        currentTeamAbbr = os.path.splitext(file)[0]\n",
    "        print(\"Starting Reading Games for \" + currentTeamAbbr)\n",
    "        filePath = os.path.join(gameDir, file)\n",
    "        with open(filePath, 'r') as jsonFile:\n",
    "            games = json.load(jsonFile)\n",
    "            for game in games:\n",
    "                currentGameId = str(game['game_id'])\n",
    "                data = statsapi.boxscore_data(currentGameId, timecode=None)\n",
    "                json.loads(data)\n",
    "            game_data.extend(game_json)\n",
    "\n"
   ]
  },
  {
   "cell_type": "code",
   "execution_count": null,
   "id": "7a53466d-b1f3-4085-a246-b1818545d16e",
   "metadata": {},
   "outputs": [],
   "source": []
  }
 ],
 "metadata": {
  "kernelspec": {
   "display_name": "Python 3 (ipykernel)",
   "language": "python",
   "name": "python3"
  },
  "language_info": {
   "codemirror_mode": {
    "name": "ipython",
    "version": 3
   },
   "file_extension": ".py",
   "mimetype": "text/x-python",
   "name": "python",
   "nbconvert_exporter": "python",
   "pygments_lexer": "ipython3",
   "version": "3.10.10"
  }
 },
 "nbformat": 4,
 "nbformat_minor": 5
}
